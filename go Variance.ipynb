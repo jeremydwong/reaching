{
 "cells": [
  {
   "cell_type": "code",
   "execution_count": 1,
   "metadata": {},
   "outputs": [],
   "source": [
    "import casadi as ca\n",
    "import SimpleOpt as so\n",
    "import numpy as np\n",
    "import sys\n",
    "import matplotlib.pyplot as plt\n",
    "sys.path.append('/Users/jeremy/git/python-control/')\n",
    "import control as ctrl\n",
    "\n",
    "def trapInt(t,inVec):\n",
    "  sumval = 0.\n",
    "  for ii in range(0,inVec.shape[1]-1):\n",
    "      sumval = sumval + (inVec[ii]+inVec[ii+1])/2.0 * (t[ii+1]-t[ii])\n",
    "  return sumval\n",
    "  \n",
    "# Constants\n",
    "p_0 = 0    # Initial position\n",
    "v_0 = 0    # Initial velocity\n",
    "p_f = 1    # Final position\n",
    "v_f = 0    # Final velocity (at step nm)\n",
    "\n",
    "# Eye movements\n",
    "n = 100 # total of 100 ms\n",
    "nm = 99 # finish at index nm\n",
    "dt = 1/n # in s\n",
    "Bs  = 0\n",
    "M   = 1\n",
    "eyefrresults = []\n",
    "# Create JuMP model, using Ipopt as the solver\n",
    "#eyefr = Model(with_optimizer(Ipopt.Optimizer, print_level=0))\n",
    "\n",
    "opti = ca.Opti()\n",
    "p = opti.variable(n,1)\n",
    "v = opti.variable(n,1) \n",
    "F = opti.variable(n,1) \n",
    "Fdot = opti.variable(n,1) \n",
    "Fddot = opti.variable(n-1,1) \n",
    "V11 = opti.variable(n-1,1) \n",
    "Ek = opti.variable(n-1,1) \n",
    "slackFddp = opti.variable(n-1,1) \n",
    "slackFddn = opti.variable(n-1,1) \n",
    "posPowJ = opti.variable(n-1,1) \n",
    "slackPosPowJ = opti.variable(n-1,1) \n",
    "T = 1\n",
    "\n",
    "  # Start with continuous-time state space, then discrete time\n",
    "A = np.array([[0, 1, 0, 0], [0, -Bs/M, 1/M, 0], [0, 0, 0, 1], [0, 0, 0, 0]])\n",
    "\n",
    "# position, velocity, F, Fdot just with damping\n",
    "B = np.array([[0], [0], [0], [1]])\n",
    "C = np.array([1,0, 0, 0])\n",
    "D = [0]\n",
    "#sseye = ctrl.ss(A, B, C, D)\n",
    "#ssdeye = ctrl.c2d(sseye, Δt)[1,1] # exp(A Δt)\n",
    "\n"
   ]
  },
  {
   "cell_type": "code",
   "execution_count": 2,
   "metadata": {},
   "outputs": [],
   "source": [
    "C = np.array([1,0, 0, 0])\n",
    "sseye = ctrl.ss(A,B,C,D)\n",
    "ssdeye = ctrl.c2d(sseye,dt)\n",
    "ssdeye.A\n",
    "\n",
    "dimMat      = ca.MX.zeros(4,4)\n",
    "dimMat[1,1] = T\n",
    "dimMat[2,2] = T\n",
    "dimMat[3,3] = T\n",
    "\n",
    "def matpow(inmat,n):\n",
    "  inmatp = inmat\n",
    "  for j in range(0,n-1):\n",
    "    inmatp=inmatp@inmat\n",
    "  return inmatp\n",
    "\n",
    "V11expr = ca.MX.zeros(n-1,n-1)\n",
    "\n",
    "# converting loops to python. \n",
    "# first question: is the iterate used primarily for math, or for indexing?\n",
    "# sometimes it's both. \n",
    "# if indexing, then convert the for-loop from matlab[m,n] to python[m-1,n). \n",
    "# if math, \n",
    "  # then convert the looprange from matlab[m,n] to python[m,n+1]\n",
    "  # and manually adjust any indices by -1.\n",
    "# these loops are for math. \n",
    "for myt in range(2,n+1): #convert the loop for math\n",
    "  for i in range(1,myt-1): #convert the loop for math\n",
    "    AB = matpow(ssdeye.A @ dimMat,myt-i-1) @ (dimMat @ ssdeye.B)\n",
    "    ABBA = AB @ AB.T\n",
    "    V11expr[myt-1-1,i-1] = ABBA[0,0]*F[i-1]*F[i-1] #manually adjust the indices"
   ]
  },
  {
   "cell_type": "code",
   "execution_count": 3,
   "metadata": {},
   "outputs": [],
   "source": [
    "\n",
    "# 1. Initial conditions and final conditions\n",
    "opti.subject_to(p[0]  == 0 )\n",
    "opti.subject_to(v[0]  == 0 )\n",
    "opti.subject_to(p[nm] == p_f)\n",
    "opti.subject_to(v[nm]  == 0 )\n",
    "opti.subject_to(F[0]  == 0 )\n",
    "opti.subject_to(Fdot[0]  == 0 )\n",
    "opti.subject_to(F[nm]  == 0 )\n",
    "opti.subject_to(Fdot[nm]  == 0 )\n",
    "\n"
   ]
  },
  {
   "cell_type": "code",
   "execution_count": 4,
   "metadata": {},
   "outputs": [],
   "source": [
    "\n",
    "# 2. hold period\n",
    "for j in np.arange(nm,n): # julia nm+1:n # during hold period, keep velocity zero\n",
    "    opti.subject_to(v[j] == 0)\n",
    "\n"
   ]
  },
  {
   "cell_type": "code",
   "execution_count": 5,
   "metadata": {},
   "outputs": [],
   "source": [
    "\n",
    "# 3. slack vars for fdotdot\n",
    "for j in np.arange(0,n-1): # during hold period, keep velocity zero\n",
    "  opti.subject_to(slackFddp[j] >=Fddot[j])\n",
    "  opti.subject_to(slackFddp[j] >=0)\n",
    "  opti.subject_to(slackFddn[j] <=Fddot[j])\n",
    "  opti.subject_to(slackFddn[j] <=0)\n",
    "\n"
   ]
  },
  {
   "cell_type": "code",
   "execution_count": 6,
   "metadata": {},
   "outputs": [],
   "source": [
    "# 4. Dynamics, as state-space linear system\n",
    "for j in np.arange(1,n): #julia 2:n\n",
    "    opti.subject_to(p[j] == p[j-1] + T*dt*v[j-1])\n",
    "    opti.subject_to(v[j] == v[j-1] + T*dt*(-Bs*v[j-1] + F[j-1])) #EOM\n",
    "    opti.subject_to(F[j] == F[j-1] + T*dt*Fdot[j-1])\n",
    "    opti.subject_to(Fdot[j] == Fdot[j-1] + T*dt*Fddot[j-1])"
   ]
  },
  {
   "cell_type": "code",
   "execution_count": 7,
   "metadata": {},
   "outputs": [],
   "source": [
    "#6. all expressions for variance, energy need to be set here. \n",
    "for j in np.arange(0,n-1):#julia j in 1:n-1\n",
    "  opti.subject_to(V11[j] == ca.sum2(V11expr[j,1:j]))   # setting covariance11\n",
    "  opti.subject_to(posPowJ[j]  == v[j] * F[j] * T)\n",
    "  opti.subject_to(slackPosPowJ[j] >=posPowJ[j])\n",
    "  opti.subject_to(slackPosPowJ[j] >=0)\n",
    "\n"
   ]
  },
  {
   "cell_type": "code",
   "execution_count": null,
   "metadata": {},
   "outputs": [],
   "source": [
    "#7. Objectives\n",
    "tvec    = np.linspace(0,1,num=100)*T\n",
    "\n",
    "kFR     = 1e-1 #bells for 1e-1, together with T = 1, work = 8\n",
    "objFrJ  = kFR * trapInt(tvec[0:-1], -slackFddn + slackFddp) * T\n",
    "\n",
    "kPosWorkW   = 4.2\n",
    "objPosWorkJ = kPosWorkW * trapInt(tvec[1:-1],slackPosPowJ)\n",
    "\n",
    "kT       = 1\n",
    "objTimeJ = kT*T\n",
    "\n",
    "varianceHold = ca.sum1(V11[nm:-1])\n",
    "\n",
    "#minimize Fdot squared over movement period\n",
    "opti.minimize(objFrJ + objPosWorkJ + objTimeJ)\n",
    "# opti.minimize(ca.sumsqr(Fddot))\n",
    "#opti.subject_to()\n",
    "\n"
   ]
  },
  {
   "cell_type": "code",
   "execution_count": null,
   "metadata": {},
   "outputs": [],
   "source": [
    "maxIter = 1000\n",
    "pOpt = {\"expand\":True}\n",
    "sOpt = {\"max_iter\"        : maxIter,\n",
    "        \"constr_viol_tol\" : 1e-2,\n",
    "        \"dual_inf_tol\"    : 1e-2}\n",
    "opti.solver('ipopt',pOpt,sOpt)\n",
    "f,ax = plt.subplots(2,2)\n",
    "def callbackPlots(i):\n",
    "    ax[0,0].plot(tvec,opti.debug.value(p))\n",
    "    ax[0,1].plot(tvec,opti.debug.value(v),color=(1,.8-.8*i/(maxIter),1))\n",
    "    ax[1,0].plot(tvec[0:-1],opti.debug.value(V11),color=(1,.8-.8*i/(maxIter),1))\n",
    "    ax[1,1].plot(tvec[0:-1],opti.debug.value(Fddot),color=(1,.8-.8*i/(maxIter),1))\n",
    "opti.callback(callbackPlots)\n",
    "\n",
    "try:\n",
    "      sol = opti.solve()\n",
    "except:\n",
    "  print(\"did not find solution\")\n",
    "\n",
    "# p_opt = opti.value(p)\n",
    "# fig, ax = plt.subplots()\n",
    "# p1 = plt.plot(tvec, p)\n",
    "# p2 = plot(tvec, [res.v for res in eyefrresults], xlabel=\"t\", ylabel=\"velocity\")\n",
    "# p3 = plot(tvec, [res.F for res in eyefrresults], xlabel=\"t\", ylabel=\"F\")\n",
    "# p4 = plot(tvec[1:n-1], [res.Fddot[1:n-1] for res in eyefrresults], xlabel=\"t\", ylabel=\"Fddot\")\n",
    "# plot(p1,p2,p3,p4,layout=(2,2),label=\"\")\n",
    "\n"
   ]
  },
  {
   "cell_type": "code",
   "execution_count": null,
   "metadata": {},
   "outputs": [],
   "source": [
    "max(opti.value(V11))\n"
   ]
  },
  {
   "cell_type": "code",
   "execution_count": null,
   "metadata": {},
   "outputs": [],
   "source": []
  }
 ],
 "metadata": {
  "kernelspec": {
   "display_name": "Python 3.9.7 ('py39')",
   "language": "python",
   "name": "python3"
  },
  "language_info": {
   "codemirror_mode": {
    "name": "ipython",
    "version": 3
   },
   "file_extension": ".py",
   "mimetype": "text/x-python",
   "name": "python",
   "nbconvert_exporter": "python",
   "pygments_lexer": "ipython3",
   "version": "3.9.7"
  },
  "orig_nbformat": 4,
  "vscode": {
   "interpreter": {
    "hash": "b9e41aeb24fae48c43a90c0f0c9120fc913bc226b0895213ac86e50ae640d2b9"
   }
  }
 },
 "nbformat": 4,
 "nbformat_minor": 2
}
