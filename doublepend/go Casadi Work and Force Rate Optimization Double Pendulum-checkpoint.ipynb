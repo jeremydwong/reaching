{
 "cells": [
  {
   "cell_type": "code",
   "execution_count": 1,
   "id": "f1fdb5d9",
   "metadata": {},
   "outputs": [
    {
     "ename": "ModuleNotFoundError",
     "evalue": "No module named 'DoublePendulumClass'",
     "output_type": "error",
     "traceback": [
      "\u001b[0;31m---------------------------------------------------------------------------\u001b[0m",
      "\u001b[0;31mModuleNotFoundError\u001b[0m                       Traceback (most recent call last)",
      "\u001b[0;32m/var/folders/sl/7mntg4dj5cgf9kmjcvnlzfz40000gn/T/ipykernel_19713/963196693.py\u001b[0m in \u001b[0;36m<module>\u001b[0;34m\u001b[0m\n\u001b[1;32m      1\u001b[0m \u001b[0;31m#%% Loop across distances and valuations to generate double-pendulum distance/time predictions.\u001b[0m\u001b[0;34m\u001b[0m\u001b[0;34m\u001b[0m\u001b[0m\n\u001b[0;32m----> 2\u001b[0;31m \u001b[0;32mimport\u001b[0m \u001b[0mDoublePendulumClass\u001b[0m \u001b[0;32mas\u001b[0m \u001b[0mdp\u001b[0m\u001b[0;34m\u001b[0m\u001b[0;34m\u001b[0m\u001b[0m\n\u001b[0m\u001b[1;32m      3\u001b[0m \u001b[0;32mimport\u001b[0m \u001b[0mnumpy\u001b[0m \u001b[0;32mas\u001b[0m \u001b[0mnp\u001b[0m\u001b[0;34m\u001b[0m\u001b[0;34m\u001b[0m\u001b[0m\n\u001b[1;32m      4\u001b[0m \u001b[0;32mimport\u001b[0m \u001b[0mmatplotlib\u001b[0m\u001b[0;34m.\u001b[0m\u001b[0mpyplot\u001b[0m \u001b[0;32mas\u001b[0m \u001b[0mplt\u001b[0m\u001b[0;34m\u001b[0m\u001b[0;34m\u001b[0m\u001b[0m\n\u001b[1;32m      5\u001b[0m \u001b[0mget_ipython\u001b[0m\u001b[0;34m(\u001b[0m\u001b[0;34m)\u001b[0m\u001b[0;34m.\u001b[0m\u001b[0mrun_line_magic\u001b[0m\u001b[0;34m(\u001b[0m\u001b[0;34m'config'\u001b[0m\u001b[0;34m,\u001b[0m \u001b[0;34m\"InlineBackend.figure_formats = ['svg']\"\u001b[0m\u001b[0;34m)\u001b[0m\u001b[0;34m\u001b[0m\u001b[0;34m\u001b[0m\u001b[0m\n",
      "\u001b[0;31mModuleNotFoundError\u001b[0m: No module named 'DoublePendulumClass'"
     ]
    }
   ],
   "source": [
    "#%% Loop across distances and valuations to generate double-pendulum distance/time predictions. \n",
    "import DoublePendulumClass as dp\n",
    "import numpy as np\n",
    "import matplotlib.pyplot as plt\n",
    "%config InlineBackend.figure_formats = ['svg']\n",
    "\n",
    "# model that has equations to compute endpoint jacobians, equations of motion, and energy. \n",
    "sim = dp.kinarmModel()\n",
    "\n",
    "x = 0.0\n",
    "ys = 0.2\n",
    "xystart = np.array([x,ys])\n",
    "\n",
    "#loopValuation = [5, 3, 1, .75, .5, .25, .05, .01]\n",
    "#loopdist = np.array([.0025, .005, .01, .02, .04, .06, .1, .2, .3, .5])\n",
    "loopValuation = [15,5, 3, 1, .75, .5, .25, .05, .01]\n",
    "loopdist = np.array([.0025, .005, .01, .02, .04, .06, .1, .2, .3, .5])\n",
    "# loopValuation = [1]\n",
    "# loopdist = np.array([.15])\n",
    "\n",
    "distcolors = ['#f7fcf0','#e0f3db','#ccebc5','#a8ddb5','#7bccc4','#4eb3d3','#2b8cbe','#0868ac','#084081']\n",
    "\n",
    "M = len(loopdist)\n",
    "N = len(loopValuation)\n",
    "duration = np.zeros([M, N])\n",
    "J = np.zeros([M, N])\n",
    "frCost = np.zeros([M, N])\n",
    "workCost = np.zeros([M, N])\n",
    "timeCost = np.zeros([M, N])\n",
    "peakhandspeed = np.zeros([M, N])\n",
    "\n",
    "# get all trajectories\n",
    "trajRows = list()\n",
    "trajCols = list() \n",
    "\n",
    "# get all optimization results\n",
    "optiRows = list()\n",
    "optiCols = list()\n",
    "\n",
    "mDist = 0\n",
    "nVal = 0\n",
    "solution = []\n",
    "for i in loopdist:\n",
    "  for j in loopValuation:\n",
    "    solution, \\\n",
    "      duration[mDist,nVal], J[mDist,nVal], workCost[mDist,nVal], frCost[mDist,nVal], timeCost[mDist,nVal], peakhandspeed[mDist,nVal],trajResult = \\\n",
    "      sim.movementTimeOpt(xystart,xystart + np.array([x,i]), \\\n",
    "      theTimeValuation=j,theN = 100, theGeneratePlots=0, LINEAR_GUESS=False, theDurationGuess = 1.1)\n",
    "    nVal += 1\n",
    "    trajCols.append(trajResult)\n",
    "    optiCols.append(solution)\n",
    "  nVal = 0\n",
    "  mDist += 1\n",
    "  trajRows.append(trajCols)\n",
    "  optiRows.append(optiCols)\n",
    "  trajCols = []\n",
    "# %%\n"
   ]
  },
  {
   "cell_type": "code",
   "execution_count": null,
   "id": "eb2c1aee",
   "metadata": {},
   "outputs": [],
   "source": []
  }
 ],
 "metadata": {
  "interpreter": {
   "hash": "b9e41aeb24fae48c43a90c0f0c9120fc913bc226b0895213ac86e50ae640d2b9"
  },
  "kernelspec": {
   "display_name": "Python 3.9.7 64-bit ('py39': conda)",
   "language": "python",
   "name": "python3"
  },
  "language_info": {
   "codemirror_mode": {
    "name": "ipython",
    "version": 3
   },
   "file_extension": ".py",
   "mimetype": "text/x-python",
   "name": "python",
   "nbconvert_exporter": "python",
   "pygments_lexer": "ipython3",
   "version": "3.9.7"
  }
 },
 "nbformat": 4,
 "nbformat_minor": 5
}
