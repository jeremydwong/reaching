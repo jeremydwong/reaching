{
 "cells": [
  {
   "cell_type": "code",
   "execution_count": 4,
   "metadata": {},
   "outputs": [],
   "source": [
    "import numpy as np\n",
    "import matplotlib.pyplot as plt\n",
    "import colour as clr\n",
    "import time\n",
    "import sys, os\n",
    "sys.path.append('/Users/jeremy/git/optreach/')\n",
    "import ReachingModels as reaching\n",
    "import plotpresentlib as pp\n",
    "\n",
    "sim = reaching.DoublePendulum()\n",
    "sim.g = 9.81\n",
    "\n",
    "optiP = sim.movementTimeNoXSetup(\n",
    "  theTimeValuation  = 1.0, \n",
    "  theN              = 200)\n",
    "\n",
    "xystart = np.array([0.4935, -0.3694])\n",
    "\n",
    "xyend = np.array([0.5300, 0.2462])\n",
    "\n"
   ]
  },
  {
   "cell_type": "code",
   "execution_count": 3,
   "metadata": {},
   "outputs": [
    {
     "name": "stdout",
     "output_type": "stream",
     "text": [
      "Warning! this hand position is unreachable given l1 and l2. Nans returned.\n",
      "error: cannot reach this target.\n"
     ]
    },
    {
     "name": "stderr",
     "output_type": "stream",
     "text": [
      "/Users/jeremy/git/optreach/ReachingModels.py:389: RuntimeWarning: invalid value encountered in arccos\n",
      "  beta = np.arccos((l1**2+c**2-l2**2)/(2*l1*c))\n",
      "/Users/jeremy/git/optreach/ReachingModels.py:391: RuntimeWarning: invalid value encountered in arccos\n",
      "  elb = np.arccos((l2**2+l1**2-c**2)/(2*l2*l1))\n"
     ]
    },
    {
     "data": {
      "text/plain": [
       "(<SimpleOpt.optTrajectories at 0x7f78b923b760>,\n",
       " <SimpleOpt.optiParam at 0x7f78b97fc1c0>)"
      ]
     },
     "execution_count": 3,
     "metadata": {},
     "output_type": "execute_result"
    }
   ],
   "source": [
    "sim.updateGuessAndSolve(xystart = xystart, xyend = xyend,oP = optiP)"
   ]
  },
  {
   "cell_type": "code",
   "execution_count": null,
   "metadata": {},
   "outputs": [],
   "source": []
  }
 ],
 "metadata": {
  "kernelspec": {
   "display_name": "Python 3.9.7 ('py39')",
   "language": "python",
   "name": "python3"
  },
  "language_info": {
   "codemirror_mode": {
    "name": "ipython",
    "version": 3
   },
   "file_extension": ".py",
   "mimetype": "text/x-python",
   "name": "python",
   "nbconvert_exporter": "python",
   "pygments_lexer": "ipython3",
   "version": "3.9.7"
  },
  "orig_nbformat": 4,
  "vscode": {
   "interpreter": {
    "hash": "b9e41aeb24fae48c43a90c0f0c9120fc913bc226b0895213ac86e50ae640d2b9"
   }
  }
 },
 "nbformat": 4,
 "nbformat_minor": 2
}
