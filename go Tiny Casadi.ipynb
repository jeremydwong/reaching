{
 "cells": [
  {
   "cell_type": "code",
   "execution_count": 1,
   "metadata": {},
   "outputs": [],
   "source": [
    "# Optimize time valuation is needed to optimize a set of [time, pv] and [time, dur] runs from the data. \n",
    "import casadi as ca\n",
    "opti = ca.Opti()\n",
    "timeVal = opti.variable()\n",
    "\n",
    "\n",
    "\n",
    "opti.set\n"
   ]
  },
  {
   "cell_type": "code",
   "execution_count": null,
   "metadata": {},
   "outputs": [],
   "source": []
  }
 ],
 "metadata": {
  "kernelspec": {
   "display_name": "Python 3.9.7 ('py39')",
   "language": "python",
   "name": "python3"
  },
  "language_info": {
   "codemirror_mode": {
    "name": "ipython",
    "version": 3
   },
   "file_extension": ".py",
   "mimetype": "text/x-python",
   "name": "python",
   "nbconvert_exporter": "python",
   "pygments_lexer": "ipython3",
   "version": "3.9.7"
  },
  "orig_nbformat": 4,
  "vscode": {
   "interpreter": {
    "hash": "b9e41aeb24fae48c43a90c0f0c9120fc913bc226b0895213ac86e50ae640d2b9"
   }
  }
 },
 "nbformat": 4,
 "nbformat_minor": 2
}
